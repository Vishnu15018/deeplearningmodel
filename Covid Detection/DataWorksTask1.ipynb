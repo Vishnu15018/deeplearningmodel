{
 "cells": [
  {
   "cell_type": "code",
   "execution_count": 1,
   "id": "17ebe512",
   "metadata": {},
   "outputs": [],
   "source": [
    "import tensorflow as tf\n",
    "from tensorflow.keras import models,layers\n",
    "import matplotlib.pyplot as plt\n",
    "from keras.preprocessing.image import ImageDataGenerator\n",
    "from tensorflow.keras.utils import image_dataset_from_directory"
   ]
  },
  {
   "cell_type": "code",
   "execution_count": 2,
   "id": "204f6df5",
   "metadata": {},
   "outputs": [],
   "source": [
    "# data_gen=image_dataset_from_directory(color_mode='grayscale',labels='inferred',labels='categorical'batch_size=32,)"
   ]
  },
  {
   "cell_type": "code",
   "execution_count": 3,
   "id": "9db59aa9",
   "metadata": {},
   "outputs": [],
   "source": [
    "data_gen=ImageDataGenerator(rescale=1./255,shear_range=0.2,zoom_range=0.2,horizontal_flip=True,vertical_flip=True)"
   ]
  },
  {
   "cell_type": "code",
   "execution_count": 4,
   "id": "3eccb3be",
   "metadata": {
    "scrolled": true
   },
   "outputs": [
    {
     "name": "stdout",
     "output_type": "stream",
     "text": [
      "Found 13749 images belonging to 4 classes.\n"
     ]
    }
   ],
   "source": [
    "train=data_gen.flow_from_directory('covid_dataset/CNN_Covid19/Train',target_size=(64,64),color_mode='rgb',shuffle=True)"
   ]
  },
  {
   "cell_type": "code",
   "execution_count": 5,
   "id": "6b6792e3",
   "metadata": {},
   "outputs": [],
   "source": [
    "train_images,train_labels=next(train)"
   ]
  },
  {
   "cell_type": "code",
   "execution_count": 6,
   "id": "90c189be",
   "metadata": {},
   "outputs": [
    {
     "name": "stdout",
     "output_type": "stream",
     "text": [
      "{'COVID': 0, 'Lung_Opacity': 1, 'Normal': 2, 'Viral Pneumonia': 3}\n"
     ]
    }
   ],
   "source": [
    "print(train.class_indices)"
   ]
  },
  {
   "cell_type": "code",
   "execution_count": 26,
   "id": "b05f7c97",
   "metadata": {},
   "outputs": [
    {
     "data": {
      "text/plain": [
       "(32, 64, 64, 3)"
      ]
     },
     "execution_count": 26,
     "metadata": {},
     "output_type": "execute_result"
    }
   ],
   "source": [
    "train_images.shape"
   ]
  },
  {
   "cell_type": "code",
   "execution_count": 7,
   "id": "9ce40ccf",
   "metadata": {},
   "outputs": [
    {
     "data": {
      "text/plain": [
       "array([[0., 0., 0., 1.],\n",
       "       [0., 0., 0., 1.],\n",
       "       [0., 0., 1., 0.],\n",
       "       [0., 0., 1., 0.],\n",
       "       [0., 0., 1., 0.],\n",
       "       [0., 0., 1., 0.],\n",
       "       [1., 0., 0., 0.],\n",
       "       [0., 1., 0., 0.],\n",
       "       [0., 0., 1., 0.],\n",
       "       [1., 0., 0., 0.],\n",
       "       [0., 0., 1., 0.],\n",
       "       [0., 0., 1., 0.],\n",
       "       [0., 0., 1., 0.],\n",
       "       [1., 0., 0., 0.],\n",
       "       [0., 0., 1., 0.],\n",
       "       [0., 1., 0., 0.],\n",
       "       [0., 0., 1., 0.],\n",
       "       [0., 0., 1., 0.],\n",
       "       [1., 0., 0., 0.],\n",
       "       [0., 1., 0., 0.],\n",
       "       [0., 0., 1., 0.],\n",
       "       [0., 1., 0., 0.],\n",
       "       [0., 1., 0., 0.],\n",
       "       [0., 0., 0., 1.],\n",
       "       [0., 1., 0., 0.],\n",
       "       [0., 0., 1., 0.],\n",
       "       [1., 0., 0., 0.],\n",
       "       [0., 1., 0., 0.],\n",
       "       [0., 0., 1., 0.],\n",
       "       [0., 1., 0., 0.],\n",
       "       [0., 0., 0., 1.],\n",
       "       [0., 1., 0., 0.]], dtype=float32)"
      ]
     },
     "execution_count": 7,
     "metadata": {},
     "output_type": "execute_result"
    }
   ],
   "source": [
    "train_labels"
   ]
  },
  {
   "cell_type": "code",
   "execution_count": 8,
   "id": "91ce293e",
   "metadata": {},
   "outputs": [
    {
     "data": {
      "text/plain": [
       "array([[[[0.        , 0.        , 0.        ],\n",
       "         [0.        , 0.        , 0.        ],\n",
       "         [0.06428433, 0.06428433, 0.06428433],\n",
       "         ...,\n",
       "         [0.4917321 , 0.4917321 , 0.4917321 ],\n",
       "         [0.32143936, 0.32143936, 0.32143936],\n",
       "         [0.16576023, 0.16576023, 0.16576023]],\n",
       "\n",
       "        [[0.        , 0.        , 0.        ],\n",
       "         [0.        , 0.        , 0.        ],\n",
       "         [0.07139609, 0.07139609, 0.07139609],\n",
       "         ...,\n",
       "         [0.49228713, 0.49228713, 0.49228713],\n",
       "         [0.315933  , 0.315933  , 0.315933  ],\n",
       "         [0.1511109 , 0.1511109 , 0.1511109 ]],\n",
       "\n",
       "        [[0.        , 0.        , 0.        ],\n",
       "         [0.        , 0.        , 0.        ],\n",
       "         [0.07604357, 0.07604357, 0.07604357],\n",
       "         ...,\n",
       "         [0.48754108, 0.48754108, 0.48754108],\n",
       "         [0.30285066, 0.30285066, 0.30285066],\n",
       "         [0.1336486 , 0.1336486 , 0.1336486 ]],\n",
       "\n",
       "        ...,\n",
       "\n",
       "        [[0.21276212, 0.21276212, 0.21276212],\n",
       "         [0.22639845, 0.22639845, 0.22639845],\n",
       "         [0.23353574, 0.23353574, 0.23353574],\n",
       "         ...,\n",
       "         [0.32978487, 0.32978487, 0.32978487],\n",
       "         [0.3127908 , 0.3127908 , 0.3127908 ],\n",
       "         [0.295851  , 0.295851  , 0.295851  ]],\n",
       "\n",
       "        [[0.17283504, 0.17283504, 0.17283504],\n",
       "         [0.18888386, 0.18888386, 0.18888386],\n",
       "         [0.31013015, 0.31013015, 0.31013015],\n",
       "         ...,\n",
       "         [0.32091495, 0.32091495, 0.32091495],\n",
       "         [0.32140216, 0.32140216, 0.32140216],\n",
       "         [0.29835546, 0.29835546, 0.29835546]],\n",
       "\n",
       "        [[0.14830719, 0.14830719, 0.14830719],\n",
       "         [0.16737899, 0.16737899, 0.16737899],\n",
       "         [0.34533054, 0.34533054, 0.34533054],\n",
       "         ...,\n",
       "         [0.4143211 , 0.4143211 , 0.4143211 ],\n",
       "         [0.5238977 , 0.5238977 , 0.5238977 ],\n",
       "         [0.25745377, 0.25745377, 0.25745377]]],\n",
       "\n",
       "\n",
       "       [[[0.21260498, 0.21260498, 0.21260498],\n",
       "         [0.25570476, 0.25570476, 0.25570476],\n",
       "         [0.34221303, 0.34221303, 0.34221303],\n",
       "         ...,\n",
       "         [0.5913603 , 0.5913603 , 0.5913603 ],\n",
       "         [0.5848571 , 0.5848571 , 0.5848571 ],\n",
       "         [0.5815173 , 0.5815173 , 0.5815173 ]],\n",
       "\n",
       "        [[0.2041376 , 0.2041376 , 0.2041376 ],\n",
       "         [0.24658029, 0.24658029, 0.24658029],\n",
       "         [0.32097435, 0.32097435, 0.32097435],\n",
       "         ...,\n",
       "         [0.578299  , 0.578299  , 0.578299  ],\n",
       "         [0.5613066 , 0.5613066 , 0.5613066 ],\n",
       "         [0.54538417, 0.54538417, 0.54538417]],\n",
       "\n",
       "        [[0.2005689 , 0.2005689 , 0.2005689 ],\n",
       "         [0.26630765, 0.26630765, 0.26630765],\n",
       "         [0.3299193 , 0.3299193 , 0.3299193 ],\n",
       "         ...,\n",
       "         [0.5861047 , 0.5861047 , 0.5861047 ],\n",
       "         [0.5500736 , 0.5500736 , 0.5500736 ],\n",
       "         [0.5203639 , 0.5203639 , 0.5203639 ]],\n",
       "\n",
       "        ...,\n",
       "\n",
       "        [[0.41063863, 0.41063863, 0.41063863],\n",
       "         [0.52784514, 0.52784514, 0.52784514],\n",
       "         [0.5846253 , 0.5846253 , 0.5846253 ],\n",
       "         ...,\n",
       "         [0.14988767, 0.14988767, 0.14988767],\n",
       "         [0.03701362, 0.03701362, 0.03701362],\n",
       "         [0.        , 0.        , 0.        ]],\n",
       "\n",
       "        [[0.42772773, 0.42772773, 0.42772773],\n",
       "         [0.5522497 , 0.5522497 , 0.5522497 ],\n",
       "         [0.6070869 , 0.6070869 , 0.6070869 ],\n",
       "         ...,\n",
       "         [0.16090512, 0.16090512, 0.16090512],\n",
       "         [0.03891403, 0.03891403, 0.03891403],\n",
       "         [0.        , 0.        , 0.        ]],\n",
       "\n",
       "        [[0.4257908 , 0.4257908 , 0.4257908 ],\n",
       "         [0.5418709 , 0.5418709 , 0.5418709 ],\n",
       "         [0.6178017 , 0.6178017 , 0.6178017 ],\n",
       "         ...,\n",
       "         [0.15557638, 0.15557638, 0.15557638],\n",
       "         [0.0364777 , 0.0364777 , 0.0364777 ],\n",
       "         [0.        , 0.        , 0.        ]]],\n",
       "\n",
       "\n",
       "       [[[0.00784314, 0.00784314, 0.00784314],\n",
       "         [0.00784314, 0.00784314, 0.00784314],\n",
       "         [0.00784314, 0.00784314, 0.00784314],\n",
       "         ...,\n",
       "         [0.00784314, 0.00784314, 0.00784314],\n",
       "         [0.00784314, 0.00784314, 0.00784314],\n",
       "         [0.00784314, 0.00784314, 0.00784314]],\n",
       "\n",
       "        [[0.00784314, 0.00784314, 0.00784314],\n",
       "         [0.00784314, 0.00784314, 0.00784314],\n",
       "         [0.00784314, 0.00784314, 0.00784314],\n",
       "         ...,\n",
       "         [0.00784314, 0.00784314, 0.00784314],\n",
       "         [0.00784314, 0.00784314, 0.00784314],\n",
       "         [0.00784314, 0.00784314, 0.00784314]],\n",
       "\n",
       "        [[0.00784314, 0.00784314, 0.00784314],\n",
       "         [0.00784314, 0.00784314, 0.00784314],\n",
       "         [0.00784314, 0.00784314, 0.00784314],\n",
       "         ...,\n",
       "         [0.00784314, 0.00784314, 0.00784314],\n",
       "         [0.00784314, 0.00784314, 0.00784314],\n",
       "         [0.00784314, 0.00784314, 0.00784314]],\n",
       "\n",
       "        ...,\n",
       "\n",
       "        [[0.00784314, 0.00784314, 0.00784314],\n",
       "         [0.00784314, 0.00784314, 0.00784314],\n",
       "         [0.00784314, 0.00784314, 0.00784314],\n",
       "         ...,\n",
       "         [0.4431373 , 0.4431373 , 0.4431373 ],\n",
       "         [0.4431373 , 0.4431373 , 0.4431373 ],\n",
       "         [0.4431373 , 0.4431373 , 0.4431373 ]],\n",
       "\n",
       "        [[0.00784314, 0.00784314, 0.00784314],\n",
       "         [0.00784314, 0.00784314, 0.00784314],\n",
       "         [0.00784314, 0.00784314, 0.00784314],\n",
       "         ...,\n",
       "         [0.4431373 , 0.4431373 , 0.4431373 ],\n",
       "         [0.4431373 , 0.4431373 , 0.4431373 ],\n",
       "         [0.4431373 , 0.4431373 , 0.4431373 ]],\n",
       "\n",
       "        [[0.00784314, 0.00784314, 0.00784314],\n",
       "         [0.00784314, 0.00784314, 0.00784314],\n",
       "         [0.00784314, 0.00784314, 0.00784314],\n",
       "         ...,\n",
       "         [0.4431373 , 0.4431373 , 0.4431373 ],\n",
       "         [0.4431373 , 0.4431373 , 0.4431373 ],\n",
       "         [0.4431373 , 0.4431373 , 0.4431373 ]]],\n",
       "\n",
       "\n",
       "       ...,\n",
       "\n",
       "\n",
       "       [[[0.03921569, 0.03921569, 0.03921569],\n",
       "         [0.03921569, 0.03921569, 0.03921569],\n",
       "         [0.03921569, 0.03921569, 0.03921569],\n",
       "         ...,\n",
       "         [0.03529412, 0.03529412, 0.03529412],\n",
       "         [0.03529412, 0.03529412, 0.03529412],\n",
       "         [0.03529412, 0.03529412, 0.03529412]],\n",
       "\n",
       "        [[0.03921569, 0.03921569, 0.03921569],\n",
       "         [0.03921569, 0.03921569, 0.03921569],\n",
       "         [0.03921569, 0.03921569, 0.03921569],\n",
       "         ...,\n",
       "         [0.03529412, 0.03529412, 0.03529412],\n",
       "         [0.03529412, 0.03529412, 0.03529412],\n",
       "         [0.03529412, 0.03529412, 0.03529412]],\n",
       "\n",
       "        [[0.03921569, 0.03921569, 0.03921569],\n",
       "         [0.03921569, 0.03921569, 0.03921569],\n",
       "         [0.03921569, 0.03921569, 0.03921569],\n",
       "         ...,\n",
       "         [0.03529412, 0.03529412, 0.03529412],\n",
       "         [0.03529412, 0.03529412, 0.03529412],\n",
       "         [0.03529412, 0.03529412, 0.03529412]],\n",
       "\n",
       "        ...,\n",
       "\n",
       "        [[0.57407933, 0.57407933, 0.57407933],\n",
       "         [0.3962643 , 0.3962643 , 0.3962643 ],\n",
       "         [0.36733577, 0.36733577, 0.36733577],\n",
       "         ...,\n",
       "         [0.12000655, 0.12000655, 0.12000655],\n",
       "         [0.03607287, 0.03607287, 0.03607287],\n",
       "         [0.03377295, 0.03377295, 0.03377295]],\n",
       "\n",
       "        [[0.5104797 , 0.5104797 , 0.5104797 ],\n",
       "         [0.31440216, 0.31440216, 0.31440216],\n",
       "         [0.31823865, 0.31823865, 0.31823865],\n",
       "         ...,\n",
       "         [0.10527358, 0.10527358, 0.10527358],\n",
       "         [0.03534177, 0.03534177, 0.03534177],\n",
       "         [0.03756117, 0.03756117, 0.03756117]],\n",
       "\n",
       "        [[0.5099577 , 0.5099577 , 0.5099577 ],\n",
       "         [0.40964574, 0.40964574, 0.40964574],\n",
       "         [0.37788975, 0.37788975, 0.37788975],\n",
       "         ...,\n",
       "         [0.07139742, 0.07139742, 0.07139742],\n",
       "         [0.03417776, 0.03417776, 0.03417776],\n",
       "         [0.05455163, 0.05455163, 0.05455163]]],\n",
       "\n",
       "\n",
       "       [[[0.01125854, 0.01125854, 0.01125854],\n",
       "         [0.01125854, 0.01125854, 0.01125854],\n",
       "         [0.01125854, 0.01125854, 0.01125854],\n",
       "         ...,\n",
       "         [0.01910168, 0.01910168, 0.01910168],\n",
       "         [0.01910168, 0.01910168, 0.01910168],\n",
       "         [0.01910168, 0.01910168, 0.01910168]],\n",
       "\n",
       "        [[0.00797551, 0.00797551, 0.00797551],\n",
       "         [0.00797551, 0.00797551, 0.00797551],\n",
       "         [0.00797551, 0.00797551, 0.00797551],\n",
       "         ...,\n",
       "         [0.01581865, 0.01581865, 0.01581865],\n",
       "         [0.01581865, 0.01581865, 0.01581865],\n",
       "         [0.01581865, 0.01581865, 0.01581865]],\n",
       "\n",
       "        [[0.01414445, 0.01414445, 0.01414445],\n",
       "         [0.01414445, 0.01414445, 0.01414445],\n",
       "         [0.01414445, 0.01414445, 0.01414445],\n",
       "         ...,\n",
       "         [0.09445265, 0.09445265, 0.09445265],\n",
       "         [0.09445265, 0.09445265, 0.09445265],\n",
       "         [0.09445265, 0.09445265, 0.09445265]],\n",
       "\n",
       "        ...,\n",
       "\n",
       "        [[0.04236634, 0.04236634, 0.04236634],\n",
       "         [0.04236634, 0.04236634, 0.04236634],\n",
       "         [0.04236634, 0.04236634, 0.04236634],\n",
       "         ...,\n",
       "         [0.        , 0.        , 0.        ],\n",
       "         [0.        , 0.        , 0.        ],\n",
       "         [0.        , 0.        , 0.        ]],\n",
       "\n",
       "        [[0.03934806, 0.03934806, 0.03934806],\n",
       "         [0.03934806, 0.03934806, 0.03934806],\n",
       "         [0.03934806, 0.03934806, 0.03934806],\n",
       "         ...,\n",
       "         [0.        , 0.        , 0.        ],\n",
       "         [0.        , 0.        , 0.        ],\n",
       "         [0.        , 0.        , 0.        ]],\n",
       "\n",
       "        [[0.04263109, 0.04263109, 0.04263109],\n",
       "         [0.04263109, 0.04263109, 0.04263109],\n",
       "         [0.04263109, 0.04263109, 0.04263109],\n",
       "         ...,\n",
       "         [0.        , 0.        , 0.        ],\n",
       "         [0.        , 0.        , 0.        ],\n",
       "         [0.        , 0.        , 0.        ]]],\n",
       "\n",
       "\n",
       "       [[[0.0131505 , 0.0131505 , 0.0131505 ],\n",
       "         [0.02614352, 0.02614352, 0.02614352],\n",
       "         [0.04181126, 0.04181126, 0.04181126],\n",
       "         ...,\n",
       "         [0.6140024 , 0.6140024 , 0.6140024 ],\n",
       "         [0.59816486, 0.59816486, 0.59816486],\n",
       "         [0.37437433, 0.37437433, 0.37437433]],\n",
       "\n",
       "        [[0.03018125, 0.03018125, 0.03018125],\n",
       "         [0.05346137, 0.05346137, 0.05346137],\n",
       "         [0.07247823, 0.07247823, 0.07247823],\n",
       "         ...,\n",
       "         [0.51748466, 0.51748466, 0.51748466],\n",
       "         [0.4595205 , 0.4595205 , 0.4595205 ],\n",
       "         [0.3984093 , 0.3984093 , 0.3984093 ]],\n",
       "\n",
       "        [[0.05942531, 0.05942531, 0.05942531],\n",
       "         [0.08300333, 0.08300333, 0.08300333],\n",
       "         [0.11232409, 0.11232409, 0.11232409],\n",
       "         ...,\n",
       "         [0.57408917, 0.57408917, 0.57408917],\n",
       "         [0.50324494, 0.50324494, 0.50324494],\n",
       "         [0.41893825, 0.41893825, 0.41893825]],\n",
       "\n",
       "        ...,\n",
       "\n",
       "        [[0.554479  , 0.554479  , 0.554479  ],\n",
       "         [0.542616  , 0.542616  , 0.542616  ],\n",
       "         [0.52324384, 0.52324384, 0.52324384],\n",
       "         ...,\n",
       "         [0.648822  , 0.648822  , 0.648822  ],\n",
       "         [0.5959212 , 0.5959212 , 0.5959212 ],\n",
       "         [0.55949724, 0.55949724, 0.55949724]],\n",
       "\n",
       "        [[0.5302045 , 0.5302045 , 0.5302045 ],\n",
       "         [0.56903225, 0.56903225, 0.56903225],\n",
       "         [0.58607185, 0.58607185, 0.58607185],\n",
       "         ...,\n",
       "         [0.7099598 , 0.7099598 , 0.7099598 ],\n",
       "         [0.7074218 , 0.7074218 , 0.7074218 ],\n",
       "         [0.6925604 , 0.6925604 , 0.6925604 ]],\n",
       "\n",
       "        [[0.38496083, 0.38496083, 0.38496083],\n",
       "         [0.5045374 , 0.5045374 , 0.5045374 ],\n",
       "         [0.5701005 , 0.5701005 , 0.5701005 ],\n",
       "         ...,\n",
       "         [0.72201616, 0.72201616, 0.72201616],\n",
       "         [0.7291181 , 0.7291181 , 0.7291181 ],\n",
       "         [0.74804205, 0.74804205, 0.74804205]]]], dtype=float32)"
      ]
     },
     "execution_count": 8,
     "metadata": {},
     "output_type": "execute_result"
    }
   ],
   "source": [
    "train_images"
   ]
  },
  {
   "cell_type": "code",
   "execution_count": 9,
   "id": "fc824767",
   "metadata": {
    "scrolled": true
   },
   "outputs": [
    {
     "data": {
      "text/plain": [
       "<matplotlib.image.AxesImage at 0x29037a914c0>"
      ]
     },
     "execution_count": 9,
     "metadata": {},
     "output_type": "execute_result"
    },
    {
     "data": {
      "image/png": "[encoded data removed]",
      "text/plain": [
       "<Figure size 640x480 with 1 Axes>"
      ]
     },
     "metadata": {},
     "output_type": "display_data"
    }
   ],
   "source": [
    "plt.imshow(train_images[1])"
   ]
  },
  {
   "cell_type": "code",
   "execution_count": 10,
   "id": "d9460978",
   "metadata": {},
   "outputs": [
    {
     "name": "stdout",
     "output_type": "stream",
     "text": [
      "Found 3756 images belonging to 4 classes.\n"
     ]
    }
   ],
   "source": [
    "val_gen=ImageDataGenerator(rescale=1./255)\n",
    "val_set=val_gen.flow_from_directory('covid_dataset/CNN_Covid19/Validation',target_size=(64,64),color_mode='rgb')"
   ]
  },
  {
   "cell_type": "code",
   "execution_count": 11,
   "id": "1822dcc5",
   "metadata": {},
   "outputs": [],
   "source": [
    "val_images,val_labels=next(val_set)"
   ]
  },
  {
   "cell_type": "code",
   "execution_count": 28,
   "id": "d6731cae",
   "metadata": {},
   "outputs": [
    {
     "data": {
      "text/plain": [
       "(32, 64, 64, 3)"
      ]
     },
     "execution_count": 28,
     "metadata": {},
     "output_type": "execute_result"
    }
   ],
   "source": [
    "val_images.shape"
   ]
  },
  {
   "cell_type": "code",
   "execution_count": 12,
   "id": "dca31d6e",
   "metadata": {},
   "outputs": [
    {
     "data": {
      "text/plain": [
       "<matplotlib.image.AxesImage at 0x29037b91070>"
      ]
     },
     "execution_count": 12,
     "metadata": {},
     "output_type": "execute_result"
    },
    {
     "data": {
      "image/png": "[encoded data removed]",
      "text/plain": [
       "<Figure size 640x480 with 1 Axes>"
      ]
     },
     "metadata": {},
     "output_type": "display_data"
    }
   ],
   "source": [
    "plt.imshow(val_images[1])"
   ]
  },
  {
   "cell_type": "code",
   "execution_count": 91,
   "id": "016e08ed",
   "metadata": {},
   "outputs": [
    {
     "name": "stdout",
     "output_type": "stream",
     "text": [
      "Found 3739 images belonging to 4 classes.\n"
     ]
    }
   ],
   "source": [
    "val_gen=ImageDataGenerator(rescale=1./255)\n",
    "test=val_gen.flow_from_directory('covid_dataset/CNN_Covid19/Test',target_size=(64,64),color_mode='rgb',batch_size=64)"
   ]
  },
  {
   "cell_type": "code",
   "execution_count": 92,
   "id": "bb0c5aec",
   "metadata": {},
   "outputs": [
    {
     "data": {
      "text/plain": [
       "<keras.preprocessing.image.DirectoryIterator at 0x2903d91bcd0>"
      ]
     },
     "execution_count": 92,
     "metadata": {},
     "output_type": "execute_result"
    }
   ],
   "source": [
    "test"
   ]
  },
  {
   "cell_type": "markdown",
   "id": "cc31f15f",
   "metadata": {},
   "source": [
    "# Model Generation\n"
   ]
  },
  {
   "cell_type": "code",
   "execution_count": 18,
   "id": "7c5bd0ce",
   "metadata": {},
   "outputs": [],
   "source": [
    "model=models.Sequential()\n",
    "model.add(layers.Conv2D(filters=32,kernel_size=3,activation='relu',input_shape=[64,64,3]))\n",
    "model.add(layers.MaxPool2D(pool_size=2,strides=2))\n",
    "model.add(layers.Conv2D(filters=64,kernel_size=3,activation='relu'))\n",
    "model.add(layers.MaxPool2D(pool_size=2,strides=2))\n",
    "model.add(layers.Conv2D(filters=128,kernel_size=3,activation='relu'))\n",
    "model.add(layers.MaxPool2D(pool_size=2,strides=2))\n",
    "model.add(layers.Flatten())\n",
    "model.add(tf.keras.layers.Dense(units=128, activation='relu'))\n",
    "model.add(layers.Dense(units=4,activation='softmax'))"
   ]
  },
  {
   "cell_type": "code",
   "execution_count": 19,
   "id": "e7392e70",
   "metadata": {},
   "outputs": [],
   "source": [
    "model.compile(optimizer='adam',loss='CategoricalCrossentropy',metrics=['accuracy'])"
   ]
  },
  {
   "cell_type": "markdown",
   "id": "f99da1a0",
   "metadata": {},
   "source": [
    "## Training "
   ]
  },
  {
   "cell_type": "code",
   "execution_count": 20,
   "id": "19219fd6",
   "metadata": {},
   "outputs": [
    {
     "name": "stdout",
     "output_type": "stream",
     "text": [
      "Epoch 1/16\n",
      "430/430 [==============================] - 107s 248ms/step - loss: 0.9054 - accuracy: 0.6185 - val_loss: 0.7107 - val_accuracy: 0.7284\n",
      "Epoch 2/16\n",
      "430/430 [==============================] - 106s 247ms/step - loss: 0.7091 - accuracy: 0.7169 - val_loss: 0.7253 - val_accuracy: 0.7330\n",
      "Epoch 3/16\n",
      "430/430 [==============================] - 122s 284ms/step - loss: 0.6204 - accuracy: 0.7567 - val_loss: 0.6189 - val_accuracy: 0.7622\n",
      "Epoch 4/16\n",
      "430/430 [==============================] - 117s 273ms/step - loss: 0.5784 - accuracy: 0.7766 - val_loss: 0.6242 - val_accuracy: 0.7625\n",
      "Epoch 5/16\n",
      "430/430 [==============================] - 114s 264ms/step - loss: 0.5246 - accuracy: 0.8008 - val_loss: 0.5764 - val_accuracy: 0.7899\n",
      "Epoch 6/16\n",
      "430/430 [==============================] - 118s 274ms/step - loss: 0.4970 - accuracy: 0.8089 - val_loss: 0.5270 - val_accuracy: 0.7969\n",
      "Epoch 7/16\n",
      "430/430 [==============================] - 102s 237ms/step - loss: 0.4752 - accuracy: 0.8188 - val_loss: 0.5304 - val_accuracy: 0.8040\n",
      "Epoch 8/16\n",
      "430/430 [==============================] - 100s 231ms/step - loss: 0.4514 - accuracy: 0.8289 - val_loss: 0.4947 - val_accuracy: 0.8056\n",
      "Epoch 9/16\n",
      "430/430 [==============================] - 97s 225ms/step - loss: 0.4317 - accuracy: 0.8347 - val_loss: 0.5260 - val_accuracy: 0.8027\n",
      "Epoch 10/16\n",
      "430/430 [==============================] - 98s 227ms/step - loss: 0.4129 - accuracy: 0.8430 - val_loss: 0.4728 - val_accuracy: 0.8206\n",
      "Epoch 11/16\n",
      "430/430 [==============================] - 99s 231ms/step - loss: 0.4123 - accuracy: 0.8451 - val_loss: 0.5159 - val_accuracy: 0.8024\n",
      "Epoch 12/16\n",
      "430/430 [==============================] - 101s 236ms/step - loss: 0.3882 - accuracy: 0.8539 - val_loss: 0.4928 - val_accuracy: 0.8150\n",
      "Epoch 13/16\n",
      "430/430 [==============================] - 97s 226ms/step - loss: 0.3768 - accuracy: 0.8590 - val_loss: 0.4569 - val_accuracy: 0.8253\n",
      "Epoch 14/16\n",
      "430/430 [==============================] - 99s 229ms/step - loss: 0.3680 - accuracy: 0.8617 - val_loss: 0.4572 - val_accuracy: 0.8219\n",
      "Epoch 15/16\n",
      "430/430 [==============================] - 97s 227ms/step - loss: 0.3628 - accuracy: 0.8615 - val_loss: 0.4496 - val_accuracy: 0.8171\n",
      "Epoch 16/16\n",
      "430/430 [==============================] - 97s 226ms/step - loss: 0.3567 - accuracy: 0.8658 - val_loss: 0.5176 - val_accuracy: 0.8059\n"
     ]
    },
    {
     "data": {
      "text/plain": [
       "<keras.callbacks.History at 0x29037346ac0>"
      ]
     },
     "execution_count": 20,
     "metadata": {},
     "output_type": "execute_result"
    }
   ],
   "source": [
    "model.fit(train,validation_data=val_set,epochs=16,batch_size=32)"
   ]
  },
  {
   "cell_type": "code",
   "execution_count": 93,
   "id": "48c4eb32",
   "metadata": {},
   "outputs": [],
   "source": [
    "test_sample, test_labels = next(test)"
   ]
  },
  {
   "cell_type": "code",
   "execution_count": 95,
   "id": "e920bff1",
   "metadata": {},
   "outputs": [
    {
     "data": {
      "text/plain": [
       "(64, 64, 64, 3)"
      ]
     },
     "execution_count": 95,
     "metadata": {},
     "output_type": "execute_result"
    }
   ],
   "source": [
    "test_sample.shape"
   ]
  },
  {
   "cell_type": "code",
   "execution_count": 96,
   "id": "c269fdb8",
   "metadata": {},
   "outputs": [
    {
     "name": "stdout",
     "output_type": "stream",
     "text": [
      "2/2 [==============================] - 0s 30ms/step\n"
     ]
    }
   ],
   "source": [
    "y_pred=model.predict(test_sample)"
   ]
  },
  {
   "cell_type": "code",
   "execution_count": 98,
   "id": "0ad3e9a7",
   "metadata": {},
   "outputs": [
    {
     "data": {
      "text/plain": [
       "(64, 4)"
      ]
     },
     "execution_count": 98,
     "metadata": {},
     "output_type": "execute_result"
    }
   ],
   "source": [
    "y_pred.shape"
   ]
  },
  {
   "cell_type": "code",
   "execution_count": 99,
   "id": "d7ae79f0",
   "metadata": {},
   "outputs": [
    {
     "name": "stdout",
     "output_type": "stream",
     "text": [
      "{'COVID': 0, 'Lung_Opacity': 1, 'Normal': 2, 'Viral Pneumonia': 3}\n"
     ]
    }
   ],
   "source": [
    "print(train.class_indices)"
   ]
  },
  {
   "cell_type": "code",
   "execution_count": 100,
   "id": "972af304",
   "metadata": {},
   "outputs": [],
   "source": [
    "predict_labels=[]\n",
    "labels=['Covid','Lung_Opacity',\"Normal\",\"Virual Pneumonia\"]\n",
    "for i in range(len(y_pred)):\n",
    "    z=y_pred[i].argmax()\n",
    "    predict_labels.append(labels[z])\n",
    "    "
   ]
  },
  {
   "cell_type": "code",
   "execution_count": 101,
   "id": "bf5109a7",
   "metadata": {},
   "outputs": [
    {
     "data": {
      "text/plain": [
       "['Normal',\n",
       " 'Lung_Opacity',\n",
       " 'Normal',\n",
       " 'Normal',\n",
       " 'Normal',\n",
       " 'Lung_Opacity',\n",
       " 'Virual Pneumonia',\n",
       " 'Normal',\n",
       " 'Normal',\n",
       " 'Lung_Opacity',\n",
       " 'Normal',\n",
       " 'Normal',\n",
       " 'Lung_Opacity',\n",
       " 'Normal',\n",
       " 'Normal',\n",
       " 'Lung_Opacity',\n",
       " 'Lung_Opacity',\n",
       " 'Normal',\n",
       " 'Normal',\n",
       " 'Lung_Opacity',\n",
       " 'Normal',\n",
       " 'Normal',\n",
       " 'Lung_Opacity',\n",
       " 'Lung_Opacity',\n",
       " 'Normal',\n",
       " 'Normal',\n",
       " 'Lung_Opacity',\n",
       " 'Normal',\n",
       " 'Lung_Opacity',\n",
       " 'Lung_Opacity',\n",
       " 'Normal',\n",
       " 'Lung_Opacity',\n",
       " 'Lung_Opacity',\n",
       " 'Normal',\n",
       " 'Normal',\n",
       " 'Lung_Opacity',\n",
       " 'Normal',\n",
       " 'Lung_Opacity',\n",
       " 'Lung_Opacity',\n",
       " 'Normal',\n",
       " 'Normal',\n",
       " 'Normal',\n",
       " 'Normal',\n",
       " 'Normal',\n",
       " 'Normal',\n",
       " 'Lung_Opacity',\n",
       " 'Normal',\n",
       " 'Lung_Opacity',\n",
       " 'Lung_Opacity',\n",
       " 'Normal',\n",
       " 'Normal',\n",
       " 'Normal',\n",
       " 'Lung_Opacity',\n",
       " 'Lung_Opacity',\n",
       " 'Lung_Opacity',\n",
       " 'Lung_Opacity',\n",
       " 'Normal',\n",
       " 'Lung_Opacity',\n",
       " 'Lung_Opacity',\n",
       " 'Lung_Opacity',\n",
       " 'Normal',\n",
       " 'Covid',\n",
       " 'Lung_Opacity',\n",
       " 'Lung_Opacity']"
      ]
     },
     "execution_count": 101,
     "metadata": {},
     "output_type": "execute_result"
    }
   ],
   "source": [
    "predict_labels"
   ]
  },
  {
   "cell_type": "code",
   "execution_count": 102,
   "id": "08f4015d",
   "metadata": {},
   "outputs": [
    {
     "name": "stdout",
     "output_type": "stream",
     "text": [
      "59/59 [==============================] - 13s 227ms/step - loss: 0.5373 - accuracy: 0.7957\n"
     ]
    }
   ],
   "source": [
    "scores=model.evaluate(test)"
   ]
  },
  {
   "cell_type": "code",
   "execution_count": 103,
   "id": "a86143dd",
   "metadata": {},
   "outputs": [
    {
     "name": "stdout",
     "output_type": "stream",
     "text": [
      "test_accuracy : \n",
      "0.795667290687561\n"
     ]
    }
   ],
   "source": [
    "print(\"test_accuracy : \")\n",
    "print(scores[1])"
   ]
  },
  {
   "cell_type": "code",
   "execution_count": 41,
   "id": "1cffcb88",
   "metadata": {},
   "outputs": [],
   "source": [
    "import PIL\n",
    "import numpy as np"
   ]
  },
  {
   "cell_type": "code",
   "execution_count": 61,
   "id": "fad512de",
   "metadata": {},
   "outputs": [],
   "source": [
    "img_data=np.random.random(size=(64,64,3))"
   ]
  },
  {
   "cell_type": "code",
   "execution_count": 62,
   "id": "7cde953d",
   "metadata": {},
   "outputs": [
    {
     "data": {
      "text/plain": [
       "(64, 64, 3)"
      ]
     },
     "execution_count": 62,
     "metadata": {},
     "output_type": "execute_result"
    }
   ],
   "source": [
    "img_data.shape"
   ]
  },
  {
   "cell_type": "code",
   "execution_count": 104,
   "id": "ee496e45",
   "metadata": {},
   "outputs": [],
   "source": [
    "from tensorflow.keras.preprocessing import image\n",
    "from tensorflow.keras.utils import img_to_array,load_img"
   ]
  },
  {
   "cell_type": "code",
   "execution_count": null,
   "id": "f0e91699",
   "metadata": {},
   "outputs": [],
   "source": []
  },
  {
   "cell_type": "code",
   "execution_count": 119,
   "id": "60e99b4e",
   "metadata": {},
   "outputs": [],
   "source": [
    "img=load_img('C:/Users/Rehan/Dropbox/PC/Desktop/COVID-3131.png',color_mode='rgb',target_size=(64,64))\n",
    "\n",
    "img_1=img_to_array(img)\n",
    "test_img=np.expand_dims(img_1,axis=0)"
   ]
  },
  {
   "cell_type": "code",
   "execution_count": 120,
   "id": "a3047686",
   "metadata": {},
   "outputs": [
    {
     "data": {
      "text/plain": [
       "(1, 64, 64, 3)"
      ]
     },
     "execution_count": 120,
     "metadata": {},
     "output_type": "execute_result"
    }
   ],
   "source": [
    "test_img.shape"
   ]
  },
  {
   "cell_type": "code",
   "execution_count": 121,
   "id": "2b1346d5",
   "metadata": {},
   "outputs": [
    {
     "name": "stdout",
     "output_type": "stream",
     "text": [
      "1/1 [==============================] - 0s 29ms/step\n"
     ]
    },
    {
     "data": {
      "text/plain": [
       "array([[1., 0., 0., 0.]], dtype=float32)"
      ]
     },
     "execution_count": 121,
     "metadata": {},
     "output_type": "execute_result"
    }
   ],
   "source": [
    "model.predict(test_image)"
   ]
  },
  {
   "cell_type": "code",
   "execution_count": null,
   "id": "6d6ed911",
   "metadata": {},
   "outputs": [],
   "source": []
  }
 ],
 "metadata": {
  "kernelspec": {
   "display_name": "Python 3 (ipykernel)",
   "language": "python",
   "name": "python3"
  },
  "language_info": {
   "codemirror_mode": {
    "name": "ipython",
    "version": 3
   },
   "file_extension": ".py",
   "mimetype": "text/x-python",
   "name": "python",
   "nbconvert_exporter": "python",
   "pygments_lexer": "ipython3",
   "version": "3.9.13"
  }
 },
 "nbformat": 4,
 "nbformat_minor": 5
}
